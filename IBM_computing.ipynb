{
 "cells": [
  {
   "cell_type": "code",
   "execution_count": 1,
   "metadata": {},
   "outputs": [],
   "source": [
    "import numpy as np\n",
    "import cirq\n",
    "import matplotlib\n",
    "from mitiq.interface.mitiq_qiskit.conversions import to_qiskit\n",
    "from qiskit import IBMQ, transpile, Aer, assemble\n",
    "import matplotlib.pyplot as plt\n",
    "import warnings\n",
    "warnings.filterwarnings('ignore')\n",
    "\n",
    "\n",
    "#FUCTIONS\n",
    "def int_to_binary(N,b):\n",
    "    bit = format(b,'b')\n",
    "    if len(bit)<N:\n",
    "        for _ in range(N-len(bit)):bit = str(0)+bit\n",
    "    return bit\n",
    "\n",
    "def base(qubits):\n",
    "    return cirq.Circuit(\n",
    "            cirq.H(qubits[0]),\n",
    "            *[cirq.CNOT(qubits[i - 1], qubits[i]) for i in range(1, len(qubits))],\n",
    "            )\n",
    "\n",
    "def measure(c,qubits):\n",
    "    c.append(cirq.measure(*qubits, key='result'))\n",
    "    return c\n",
    "\n",
    "\n",
    "def bitGateMap(c,g,qi,qubits):\n",
    "    '''Map X/Y/Z string to cirq ops'''\n",
    "    if g==\"X\":\n",
    "        c.append(cirq.H(qubits[qi]))\n",
    "        \n",
    "    elif g==\"Y\":\n",
    "        sdg = cirq.S**-1\n",
    "        c.append(sdg(qubits[qi]))\n",
    "        c.append(cirq.H(qubits[qi]))\n",
    "        \n",
    "    elif g==\"Z\":\n",
    "        pass\n",
    "    else:\n",
    "        raise NotImplementedError(f\"Unknown gate {g}\")\n",
    "    \n",
    "\n",
    "def Minv(N,X):\n",
    "    '''inverse shadow channel'''\n",
    "    return ((2**N+1.))*X - np.eye(2**N)\n",
    "\n",
    "def rotGate(g):\n",
    "    if g==\"X\":\n",
    "        return 1/np.sqrt(2)*np.array([[1.,1.],[1.,-1.]])\n",
    "\n",
    "    elif g==\"Y\":\n",
    "        return 1/np.sqrt(2)*np.array([[1.,-1.0j],[1.,1.j]])\n",
    "    elif g==\"Z\":\n",
    "        return np.eye(2)\n",
    "    else:\n",
    "        raise NotImplementedError(f\"Unknown gate {g}\")    \n",
    "    \n",
    "\n",
    "def obs_gate(g):\n",
    "    if g==\"X\":\n",
    "        return cirq.unitary(cirq.X)\n",
    "    elif g==\"Y\":\n",
    "        return cirq.unitary(cirq.Y)\n",
    "    elif g==\"Z\":\n",
    "        return cirq.unitary(cirq.Z)\n",
    "    elif g==\"I\":\n",
    "        return cirq.unitary(cirq.I)\n",
    "    else:\n",
    "        raise NotImplementedError(f\"Unknown gate {g}\")    \n",
    "\n",
    "def trace_dist(lam_exact,rho):\n",
    "    mid = (lam_exact-rho).conj().T@(lam_exact-rho)\n",
    "    N = 2**int(np.log2(lam_exact.shape[0])/2)\n",
    "    U1,d,U2 = np.linalg.svd(mid)\n",
    "    sqrt_mid = U1@np.diag(np.sqrt(d))@U2\n",
    "    dist = np.trace(sqrt_mid)/2\n",
    "    return dist/N\n",
    "\n",
    "def operator(string):\n",
    "    op = 1.\n",
    "    for o in string:\n",
    "        op = np.kron(obs_gate(o),op)\n",
    "    return op\n",
    "\n",
    "\n",
    "\n",
    "def run_batch(circuit_array,count):\n",
    "    circuit_array = np.split(np.array(circuit_array),len(circuit_array)//100+1)\n",
    "    results =[]\n",
    "    for circ in circuit_array:\n",
    "        IBMQ.save_account(\"e4aa945798224dfeade112e32d48f89cb15250cef840990d434202d1be8e9dcb844c625cc48dd99c8ac022b7924e46855502882c03c90607bf01227cd6110822\", overwrite=True) \n",
    "        provider = IBMQ.load_account()\n",
    "        provider = IBMQ.get_provider(hub='ibm-q', group='open', project='main')\n",
    "        backend = provider.get_backend('ibmq_lima')    \n",
    "        mapped_circuit = [transpile(ci, backend=backend) for ci in circ]\n",
    "        qobj = assemble(mapped_circuit, backend=backend, shots=count)\n",
    "\n",
    "        job = backend.run(qobj)\n",
    "        result = job.result()\n",
    "        counts = result.get_counts()\n",
    "        for c in counts: results.append(c)\n",
    "    return results\n",
    "\n",
    "\n",
    "def find_rho_IBM(circuit,qubits,N=2,nsimu = 10000):\n",
    "\n",
    "    gates= [np.random.choice(['X','Y','Z'],size=N) for _ in range(nsimu)]\n",
    "    labels,counts = np.unique(gates,axis = 0, return_counts =True)\n",
    "    results = []\n",
    "    circuit_array =[]\n",
    "    for bit_string,count in zip(labels,counts):\n",
    "        c_m = circuit.copy()\n",
    "        for i,bit in enumerate(bit_string): bitGateMap(c_m,bit,i,qubits) \n",
    "        measure(c_m,qubits) \n",
    "        c_m = to_qiskit(c_m)\n",
    "        circuit_array.append(c_m)\n",
    "    \n",
    "    results = run_batch(circuit_array,count=2000)\n",
    "    'Shadow Tomography part'\n",
    "    shadows = []\n",
    "    shots = 0\n",
    "    for pauli_string,counts in zip(labels,results):\n",
    "        for bit,count in counts.items():\n",
    "            mat = 1.\n",
    "            for i,bi in enumerate(bit[::-1]):\n",
    "                b = rotGate(pauli_string[i])[int(bi),:]\n",
    "                mat = np.kron(Minv(1,np.outer(b.conj(),b)),mat)\n",
    "            shadows.append(mat*count)\n",
    "            shots+=count\n",
    "\n",
    "    return np.sum(shadows,axis=0)/(shots)\n",
    "\n",
    "\n"
   ]
  },
  {
   "cell_type": "code",
   "execution_count": 2,
   "metadata": {},
   "outputs": [
    {
     "name": "stdout",
     "output_type": "stream",
     "text": [
      "[cirq.LineQubit(0), cirq.LineQubit(1), cirq.LineQubit(2), cirq.LineQubit(3), cirq.LineQubit(4)]\n",
      "0: ───H───@───────────────\n",
      "          │\n",
      "1: ───────X───@───────────\n",
      "              │\n",
      "2: ───────────X───@───────\n",
      "                  │\n",
      "3: ───────────────X───@───\n",
      "                      │\n",
      "4: ───────────────────X───\n",
      "START ACCOUNT\n",
      "START ACCOUNT\n"
     ]
    },
    {
     "name": "stderr",
     "output_type": "stream",
     "text": [
      "ibmqfactory.load_account:WARNING:2023-06-01 10:19:14,897: Credentials are already in use. The existing account in the session will be replaced.\n"
     ]
    },
    {
     "name": "stdout",
     "output_type": "stream",
     "text": [
      "START ACCOUNT\n"
     ]
    },
    {
     "name": "stderr",
     "output_type": "stream",
     "text": [
      "ibmqfactory.load_account:WARNING:2023-06-01 10:20:30,351: Credentials are already in use. The existing account in the session will be replaced.\n"
     ]
    },
    {
     "name": "stdout",
     "output_type": "stream",
     "text": [
      "243\n",
      "trace dist rho (0.1927966784659546-5.314611082040935e-18j)\n",
      "trace dist rho2 (0.10723525274888751+2.1012792870468717e-14j)\n",
      "trace dist rho3 (0.10355388558065413+2.1263466885712266e-12j)\n",
      "obs rho: (0.9999999403953552+0j)\n",
      "obs rho: (0.736962962962963+0j)\n",
      "obs rho2: (0.918591896407452-3.6549623541447705e-20j)\n",
      "obs rho3: (0.9918869612535477-2.9006702291937174e-20j)\n",
      "obs rho: (0.9999999403953552+0j)\n",
      "obs rho: (0.8231851851851854+0j)\n",
      "obs rho2: (0.9403968543071742-4.923491172287245e-20j)\n",
      "obs rho3: (0.9899068347812459+2.8502061164557757e-19j)\n",
      "obs rho: (0.9999999403953552+0j)\n",
      "obs rho: (0.8555185185185188+0j)\n",
      "obs rho2: (0.9403720492138342-5.29844072616555e-20j)\n",
      "obs rho3: (0.9935375858028977-2.3356563542932523e-19j)\n",
      "obs rho: (0.9999999403953552+0j)\n",
      "obs rho: (0.8381851851851855+0j)\n",
      "obs rho2: (0.9328807456457027-3.006198806869119e-20j)\n",
      "obs rho3: (0.9924559956038999-4.2465594629585074e-19j)\n",
      "obs rho: (0.9999999403953552+0j)\n",
      "obs rho: (0.21600000000000047-2.7755575615628914e-17j)\n",
      "obs rho2: (0.5699797319817408-6.860881459484035e-36j)\n",
      "obs rho3: (0.6537227095936612-1.6653345369377348e-16j)\n"
     ]
    },
    {
     "name": "stderr",
     "output_type": "stream",
     "text": [
      "ibmqfactory.load_account:WARNING:2023-06-01 10:22:00,023: Credentials are already in use. The existing account in the session will be replaced.\n"
     ]
    },
    {
     "name": "stdout",
     "output_type": "stream",
     "text": [
      "START ACCOUNT\n",
      "START ACCOUNT\n"
     ]
    },
    {
     "name": "stderr",
     "output_type": "stream",
     "text": [
      "ibmqfactory.load_account:WARNING:2023-06-01 10:23:18,677: Credentials are already in use. The existing account in the session will be replaced.\n"
     ]
    },
    {
     "name": "stdout",
     "output_type": "stream",
     "text": [
      "START ACCOUNT\n"
     ]
    },
    {
     "name": "stderr",
     "output_type": "stream",
     "text": [
      "ibmqfactory.load_account:WARNING:2023-06-01 10:24:34,946: Credentials are already in use. The existing account in the session will be replaced.\n"
     ]
    },
    {
     "name": "stdout",
     "output_type": "stream",
     "text": [
      "243\n",
      "trace dist rho (0.18995664753526567-3.215871539060681e-17j)\n",
      "trace dist rho2 (0.09301373330062024-3.1719530818156384e-15j)\n",
      "trace dist rho3 (0.08794659749700451+1.220606428879338e-11j)\n",
      "obs rho: (0.9999999403953552+0j)\n",
      "obs rho: (0.7583703703703705+0j)\n",
      "obs rho2: (0.8928366610431089-7.149537162956301e-21j)\n",
      "obs rho3: (0.9876145964508892-1.8501951589953192e-18j)\n",
      "obs rho: (0.9999999403953552+0j)\n",
      "obs rho: (0.816814814814815+0j)\n",
      "obs rho2: (0.925266127380445+4.487804588006517e-20j)\n",
      "obs rho3: (0.991785982842871-1.118916439505027e-18j)\n",
      "obs rho: (0.9999999403953552+0j)\n",
      "obs rho: (0.8570740740740745+0j)\n",
      "obs rho2: (0.9486339392041478+1.911887137199147e-20j)\n",
      "obs rho3: (0.9954013451884629-4.366940414908263e-19j)\n",
      "obs rho: (0.9999999403953552+0j)\n",
      "obs rho: (0.8441481481481483+0j)\n",
      "obs rho2: (0.9411282625240134-4.911952333281812e-20j)\n",
      "obs rho3: (0.9917074725368816-8.693480529741974e-19j)\n",
      "obs rho: (0.9999999403953552+0j)\n",
      "obs rho: (0.5609999999999998-2.7755575615628907e-17j)\n",
      "obs rho2: (0.6794040685881193-5.551115123125784e-17j)\n",
      "obs rho3: (0.7587127379108862+2.2204460492503126e-16j)\n",
      "START ACCOUNT\n"
     ]
    },
    {
     "name": "stderr",
     "output_type": "stream",
     "text": [
      "ibmqfactory.load_account:WARNING:2023-06-01 10:26:25,444: Credentials are already in use. The existing account in the session will be replaced.\n"
     ]
    },
    {
     "name": "stdout",
     "output_type": "stream",
     "text": [
      "START ACCOUNT\n"
     ]
    },
    {
     "name": "stderr",
     "output_type": "stream",
     "text": [
      "ibmqfactory.load_account:WARNING:2023-06-01 10:27:39,980: Credentials are already in use. The existing account in the session will be replaced.\n"
     ]
    },
    {
     "name": "stdout",
     "output_type": "stream",
     "text": [
      "START ACCOUNT\n"
     ]
    },
    {
     "name": "stderr",
     "output_type": "stream",
     "text": [
      "ibmqfactory.load_account:WARNING:2023-06-01 10:28:54,085: Credentials are already in use. The existing account in the session will be replaced.\n"
     ]
    },
    {
     "name": "stdout",
     "output_type": "stream",
     "text": [
      "243\n",
      "trace dist rho (0.1957495852041628-7.26648934138104e-18j)\n",
      "trace dist rho2 (0.10151176840263865+3.12983875799858e-15j)\n",
      "trace dist rho3 (0.09650567602236262+2.855269013881765e-13j)\n",
      "obs rho: (0.9999999403953552+0j)\n",
      "obs rho: (0.7307037037037036+0j)\n",
      "obs rho2: (0.9019832435789082-2.929045437849818e-19j)\n",
      "obs rho3: (0.9853601960887828-5.391724518190002e-19j)\n",
      "obs rho: (0.9999999403953552+0j)\n",
      "obs rho: (0.8402222222222223+0j)\n",
      "obs rho2: (0.9172375955230507-1.8223748239039249e-19j)\n",
      "obs rho3: (0.9925863554943838+6.03001545838388e-19j)\n",
      "obs rho: (0.9999999403953552+0j)\n",
      "obs rho: (0.8607407407407413+0j)\n",
      "obs rho2: (0.9264593812361341-1.5789596313970551e-19j)\n",
      "obs rho3: (0.9928172927406838+6.626011049020006e-19j)\n",
      "obs rho: (0.9999999403953552+0j)\n",
      "obs rho: (0.8390000000000002+0j)\n",
      "obs rho2: (0.9039641399019978-1.5953935935624286e-19j)\n",
      "obs rho3: (0.9912885777393685-3.094976889808167e-19j)\n",
      "obs rho: (0.9999999403953552+0j)\n",
      "obs rho: (0.14800000000000008+0j)\n",
      "obs rho2: (0.5491064099131023-5.551115123125784e-17j)\n",
      "obs rho3: (0.6738717755973965+1.6653345369377353e-16j)\n",
      "START ACCOUNT\n"
     ]
    },
    {
     "name": "stderr",
     "output_type": "stream",
     "text": [
      "ibmqfactory.load_account:WARNING:2023-06-01 10:30:12,065: Credentials are already in use. The existing account in the session will be replaced.\n"
     ]
    },
    {
     "name": "stdout",
     "output_type": "stream",
     "text": [
      "START ACCOUNT\n"
     ]
    },
    {
     "name": "stderr",
     "output_type": "stream",
     "text": [
      "ibmqfactory.load_account:WARNING:2023-06-01 10:31:29,090: Credentials are already in use. The existing account in the session will be replaced.\n",
      "ibmqfactory.load_account:WARNING:2023-06-01 10:32:44,774: Credentials are already in use. The existing account in the session will be replaced.\n"
     ]
    },
    {
     "name": "stdout",
     "output_type": "stream",
     "text": [
      "START ACCOUNT\n",
      "243\n"
     ]
    },
    {
     "name": "stderr",
     "output_type": "stream",
     "text": [
      "WARNING - findfont: Font family ['normal'] not found. Falling back to DejaVu Sans.\n"
     ]
    },
    {
     "name": "stdout",
     "output_type": "stream",
     "text": [
      "trace dist rho (0.19022590590914598-1.4227728689677553e-16j)\n",
      "trace dist rho2 (0.09150185363705086+1.3593125878893216e-14j)\n",
      "trace dist rho3 (0.08631574082577381+1.0677805096738534e-12j)\n",
      "obs rho: (0.9999999403953552+0j)\n",
      "obs rho: (0.7525925925925926+0j)\n",
      "obs rho2: (0.9163619718443434-5.581814552608304e-21j)\n",
      "obs rho3: (0.9903473957031226-1.5550169950546683e-18j)\n",
      "obs rho: (0.9999999403953552+0j)\n",
      "obs rho: (0.8334444444444449+0j)\n",
      "obs rho2: (0.9286328057979818-1.0029975193925853e-19j)\n",
      "obs rho3: (0.9908753432931319+4.491338732221674e-19j)\n",
      "obs rho: (0.9999999403953552+0j)\n",
      "obs rho: (0.8652222222222228+0j)\n",
      "obs rho2: (0.9264099167302383-1.086818031700504e-19j)\n",
      "obs rho3: (0.9950653804288152+5.310188634925686e-20j)\n",
      "obs rho: (0.9999999403953552+0j)\n",
      "obs rho: (0.8159259259259264+0j)\n",
      "obs rho2: (0.9119054273660159-2.2745012713910037e-19j)\n",
      "obs rho3: (0.9920503171327405-2.2050759965512943e-19j)\n",
      "obs rho: (0.9999999403953552+0j)\n",
      "obs rho: (0.5289999999999999+0j)\n",
      "obs rho2: (0.6740134565020195-1.1102230246251565e-16j)\n",
      "obs rho3: (0.762751948870144-1.1102230246251563e-16j)\n",
      "{'ZZIII0': [(0.736962962962963+0j), (0.7583703703703705+0j), (0.7307037037037036+0j), (0.7525925925925926+0j)], 'ZZIII1': [(0.918591896407452-3.6549623541447705e-20j), (0.8928366610431089-7.149537162956301e-21j), (0.9019832435789082-2.929045437849818e-19j), (0.9163619718443434-5.581814552608304e-21j)], 'ZZIII2': [(0.9918869612535477-2.9006702291937174e-20j), (0.9876145964508892-1.8501951589953192e-18j), (0.9853601960887828-5.391724518190002e-19j), (0.9903473957031226-1.5550169950546683e-18j)], 'IZZII0': [(0.8231851851851854+0j), (0.816814814814815+0j), (0.8402222222222223+0j), (0.8334444444444449+0j)], 'IZZII1': [(0.9403968543071742-4.923491172287245e-20j), (0.925266127380445+4.487804588006517e-20j), (0.9172375955230507-1.8223748239039249e-19j), (0.9286328057979818-1.0029975193925853e-19j)], 'IZZII2': [(0.9899068347812459+2.8502061164557757e-19j), (0.991785982842871-1.118916439505027e-18j), (0.9925863554943838+6.03001545838388e-19j), (0.9908753432931319+4.491338732221674e-19j)], 'IIZZI0': [(0.8555185185185188+0j), (0.8570740740740745+0j), (0.8607407407407413+0j), (0.8652222222222228+0j)], 'IIZZI1': [(0.9403720492138342-5.29844072616555e-20j), (0.9486339392041478+1.911887137199147e-20j), (0.9264593812361341-1.5789596313970551e-19j), (0.9264099167302383-1.086818031700504e-19j)], 'IIZZI2': [(0.9935375858028977-2.3356563542932523e-19j), (0.9954013451884629-4.366940414908263e-19j), (0.9928172927406838+6.626011049020006e-19j), (0.9950653804288152+5.310188634925686e-20j)], 'IIIZZ0': [(0.8381851851851855+0j), (0.8441481481481483+0j), (0.8390000000000002+0j), (0.8159259259259264+0j)], 'IIIZZ1': [(0.9328807456457027-3.006198806869119e-20j), (0.9411282625240134-4.911952333281812e-20j), (0.9039641399019978-1.5953935935624286e-19j), (0.9119054273660159-2.2745012713910037e-19j)], 'IIIZZ2': [(0.9924559956038999-4.2465594629585074e-19j), (0.9917074725368816-8.693480529741974e-19j), (0.9912885777393685-3.094976889808167e-19j), (0.9920503171327405-2.2050759965512943e-19j)], 'XXXXX0': [(0.21600000000000047-2.7755575615628914e-17j), (0.5609999999999998-2.7755575615628907e-17j), (0.14800000000000008+0j), (0.5289999999999999+0j)], 'XXXXX1': [(0.5699797319817408-6.860881459484035e-36j), (0.6794040685881193-5.551115123125784e-17j), (0.5491064099131023-5.551115123125784e-17j), (0.6740134565020195-1.1102230246251565e-16j)], 'XXXXX2': [(0.6537227095936612-1.6653345369377348e-16j), (0.7587127379108862+2.2204460492503126e-16j), (0.6738717755973965+1.6653345369377353e-16j), (0.762751948870144-1.1102230246251563e-16j)]}\n",
      "MeanZZIII0:  (0.7446574074074074+0j) varZZIII0:  0.0001262307098765441\n",
      "MeanZZIII1:  (0.907443443218453-8.554637976049852e-20j) varZZIII1:  0.00011175000674494097\n",
      "MeanZZIII2:  (0.9888022873740856-9.933478270402312e-19j) varZZIII2:  6.290293709123961e-06\n",
      "MeanIZZII0:  (0.8284166666666668+0j) varIZZII0:  8.165526406035682e-05\n",
      "MeanIZZII1:  (0.9278833457521629-7.172352504311458e-20j) varIZZII1:  6.933285416563006e-05\n",
      "MeanIZZII2:  (0.9912886291029082+5.455989780027649e-20j) varIZZII2:  1.002903809432001e-06\n",
      "MeanIIZZI0:  (0.8596388888888893+0j) varIIZZI0:  1.3985853909465702e-05\n",
      "MeanIIZZI1:  (0.9354688215960887-7.511082554985498e-20j) varIIZZI1:  9.014893391838934e-05\n",
      "MeanIIZZI2:  (0.9942054010402148+1.1360828582776505e-20j) varIIZZI2:  1.1356671992415527e-06\n",
      "MeanIIIZZ0:  (0.8343148148148151+0j) varIIIZZ0:  0.00011794410150891391\n",
      "MeanIIIZZ1:  (0.9224696438594324-1.1654274947421313e-19j) varIIIZZ1:  0.0002276478594281832\n",
      "MeanIIIZZ2:  (0.9918755907532226-4.560023219764986e-19j) varIIIZZ2:  1.850617778722112e-07\n",
      "MeanXXXXX0:  (0.3635000000000001-1.3877787807814455e-17j) varXXXXX0:  0.033648249999999935\n",
      "MeanXXXXX1:  (0.6181259167462455-5.551115123125783e-17j) varXXXXX1:  0.0034900441059942705\n",
      "MeanXXXXX2:  (0.712264792993022+2.775557561562892e-17j) varXXXXX2:  0.0024018909522830695\n"
     ]
    },
    {
     "data": {
      "image/png": "[encoded data removed]",
      "text/plain": [
       "<Figure size 432x288 with 1 Axes>"
      ]
     },
     "metadata": {
      "needs_background": "light"
     },
     "output_type": "display_data"
    }
   ],
   "source": [
    "#Observable mean and variance (Fig.4 of https://arxiv.org/abs/2203.07309)\n",
    "\n",
    "font = {'family' : 'normal',\n",
    "        'size'   : 18}\n",
    "\n",
    "matplotlib.rc('font', **font)\n",
    "\n",
    "\n",
    "N = 5\n",
    "nsimu = 10000\n",
    "n_average = 4\n",
    "qubits = cirq.LineQubit.range(N)\n",
    "circuit =  base(qubits)\n",
    "observables = [\"ZZIII\",\"IZZII\",\"IIZZI\",\"IIIZZ\",\"XXXXX\"]\n",
    "delta = {}\n",
    "for obs in observables:\n",
    "     for i in range(3):\n",
    "          delta[obs+str(i)]=[]\n",
    "\n",
    "simulator = cirq.Simulator()\n",
    "simulation = simulator.simulate(circuit)\n",
    "final_state = np.array([simulation.final_state_vector])\n",
    "rho_actual = final_state.T@final_state\n",
    "\n",
    "for _ in range(n_average):\n",
    "    rho_shadow = find_rho_IBM(circuit,qubits,N,nsimu)\n",
    "    rho_shadow2 = rho_shadow@rho_shadow\n",
    "    rho_shadow3 = rho_shadow@rho_shadow2\n",
    "    rho_shadow/=np.trace(rho_shadow)\n",
    "    rho_shadow2/=np.trace(rho_shadow2)\n",
    "    rho_shadow3/=np.trace(rho_shadow3)\n",
    "    print(\"trace distance rho\",trace_dist(rho_shadow,rho_actual))\n",
    "    print(\"trace distance rho2\",trace_dist(rho_shadow2,rho_actual))\n",
    "    print(\"trace distance rho3\",trace_dist(rho_shadow3,rho_actual))\n",
    "    for obs in observables:\n",
    "        O = 1.\n",
    "        for o in obs:\n",
    "\n",
    "            O = np.kron(obs_gate(o),O)\n",
    "        print(\"obs rho actual:\",np.trace(rho_actual@O))\n",
    "        print(\"obs rho:\",np.trace(rho_shadow@O)/np.trace(rho_shadow))\n",
    "        print(\"obs rho2:\",np.trace(rho_shadow2@O)/np.trace(rho_shadow2))\n",
    "        print(\"obs rho3:\",np.trace(rho_shadow3@O)/np.trace(rho_shadow3))\n",
    "        delta[obs+str(0)].append(np.trace(rho_shadow@O)/np.trace(rho_shadow))\n",
    "        delta[obs+str(1)].append(np.trace(rho_shadow2@O)/np.trace(rho_shadow2))\n",
    "        delta[obs+str(2)].append(np.trace(rho_shadow3@O)/np.trace(rho_shadow3))\n",
    "\n",
    "print(delta)\n",
    "\n",
    "x1 = []\n",
    "x2 = []\n",
    "x3 = []\n",
    "err_x1 = []\n",
    "err_x2 = []\n",
    "err_x3 = []\n",
    "for obs in observables:\n",
    "    for i in range(3):\n",
    "        print(\"Mean\"+obs+str(i)+\": \",np.mean(delta[obs+str(i)]),\"var\"+obs+str(i)+\": \",np.var(delta[obs+str(i)]))\n",
    "    x1.append(np.mean(delta[obs+str(0)]))\n",
    "    x2.append(np.mean(delta[obs+str(1)]))\n",
    "    x3.append(np.mean(delta[obs+str(2)]))\n",
    "    err_x1.append(np.var(delta[obs+str(0)]))\n",
    "    err_x2.append(np.var(delta[obs+str(1)]))\n",
    "    err_x3.append(np.var(delta[obs+str(2)]))\n",
    "\n",
    "\n",
    "etiquette = [r'$Z_1Z_2$',r'$Z_2Z_3$',r'$Z_3Z_4$',r'$Z_4Z_5$',r'$\\prod_i X_i$']\n",
    "position = np.arange(len(etiquette))\n",
    "largeur = .25\n",
    "\n",
    "fig, ax = plt.subplots()\n",
    "r1 = ax.bar(position - largeur, x1,yerr = err_x1,width =  largeur,color = \"grey\",label = r'$\\rho$')\n",
    "r2 = ax.bar(position , x2, yerr = err_x2,width = largeur,color = \"blue\",label = r'$\\rho^2$')\n",
    "r3 = ax.bar(position + largeur, x3,yerr = err_x3,width = largeur,color = \"purple\",label = r'$\\rho^3$')\n",
    "ax.set_xticks(position)\n",
    "ax.set_xticklabels(etiquette)\n",
    "plt.legend(loc='lower left')\n",
    "plt.savefig(\"IBM_Mean_var_N_simu=\"+str(nsimu)+\".png\")\n",
    "plt.show()\n",
    "\n"
   ]
  }
 ],
 "metadata": {
  "kernelspec": {
   "display_name": "base",
   "language": "python",
   "name": "python3"
  },
  "language_info": {
   "codemirror_mode": {
    "name": "ipython",
    "version": 3
   },
   "file_extension": ".py",
   "mimetype": "text/x-python",
   "name": "python",
   "nbconvert_exporter": "python",
   "pygments_lexer": "ipython3",
   "version": "3.9.12"
  },
  "orig_nbformat": 4
 },
 "nbformat": 4,
 "nbformat_minor": 2
}
